{
 "cells": [
  {
   "cell_type": "markdown",
   "id": "cf865ff1-39b7-4f82-bc36-6f85f684bafa",
   "metadata": {},
   "source": [
    "# Data Science Tools and Ecosystem"
   ]
  },
  {
   "cell_type": "markdown",
   "id": "52448c3c-ffa6-4964-ba98-1cf2c20d2fc8",
   "metadata": {},
   "source": [
    "## In this notebook, Data Science Tools and Ecosystem are summarized."
   ]
  },
  {
   "cell_type": "markdown",
   "id": "37391f24-f066-4ab3-81d7-2de9cb9372d6",
   "metadata": {},
   "source": [
    "### Some of the popular languages that Data Scientists use are:\n",
    "* Python\n",
    "* R\n",
    "* Julia"
   ]
  },
  {
   "cell_type": "markdown",
   "id": "fd6fe9fb-0880-40aa-a11b-5b0c998a82c9",
   "metadata": {},
   "source": [
    "### Some of the commonly used libraries used by Data Scientists include:\n",
    "* Numpy\n",
    "* Pandas\n",
    "* Keras"
   ]
  },
  {
   "cell_type": "markdown",
   "id": "336487fe-99ec-4db7-87b2-5a8def5a44b4",
   "metadata": {},
   "source": [
    "### Data Science Tools\n",
    "* Apache Spark\n",
    "* BigML\n",
    "* AWS"
   ]
  },
  {
   "cell_type": "markdown",
   "id": "ac0bcf3d-c170-47be-a374-dd24f3a0d191",
   "metadata": {},
   "source": [
    "### Below are a few examples of evaluating arithmetic expressions in Python"
   ]
  },
  {
   "cell_type": "code",
   "execution_count": 1,
   "id": "cf0dd3ab-3948-47e7-af08-e6880a820d6b",
   "metadata": {},
   "outputs": [
    {
     "data": {
      "text/plain": [
       "4"
      ]
     },
     "execution_count": 1,
     "metadata": {},
     "output_type": "execute_result"
    }
   ],
   "source": [
    "2 + 2"
   ]
  },
  {
   "cell_type": "code",
   "execution_count": 2,
   "id": "71d7e814-ae76-4035-96fe-ab892895430b",
   "metadata": {},
   "outputs": [
    {
     "data": {
      "text/plain": [
       "17"
      ]
     },
     "execution_count": 2,
     "metadata": {},
     "output_type": "execute_result"
    }
   ],
   "source": [
    "(3*4)+5 #This a simple arithmetic expression to mutiply then add integers"
   ]
  },
  {
   "cell_type": "code",
   "execution_count": 4,
   "id": "0b9afce5-24cb-45fc-a330-35e011018e1d",
   "metadata": {},
   "outputs": [
    {
     "name": "stdout",
     "output_type": "stream",
     "text": [
      "3.3333333333333335\n"
     ]
    }
   ],
   "source": [
    "hours = 200 / 60 #This will convert 200 minutes to hours by diving by 60\n",
    "print(hours)"
   ]
  },
  {
   "cell_type": "markdown",
   "id": "feba1e2a-3cd7-456c-a634-f3a00a152bb7",
   "metadata": {},
   "source": [
    "## **Objectives:**\n",
    "* R\n",
    "* Python\n",
    "* Julia\n",
    "* Java\n",
    "* C++"
   ]
  },
  {
   "cell_type": "code",
   "execution_count": null,
   "id": "8e9b0f56-a1a8-4aa4-893a-113431264804",
   "metadata": {},
   "outputs": [],
   "source": []
  }
 ],
 "metadata": {
  "kernelspec": {
   "display_name": "Python 3 (ipykernel)",
   "language": "python",
   "name": "python3"
  },
  "language_info": {
   "codemirror_mode": {
    "name": "ipython",
    "version": 3
   },
   "file_extension": ".py",
   "mimetype": "text/x-python",
   "name": "python",
   "nbconvert_exporter": "python",
   "pygments_lexer": "ipython3",
   "version": "3.12.0"
  }
 },
 "nbformat": 4,
 "nbformat_minor": 5
}
